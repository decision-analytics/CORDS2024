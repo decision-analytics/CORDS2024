{
 "cells": [
  {
   "cell_type": "markdown",
   "metadata": {
    "slideshow": {
     "slide_type": "slide"
    }
   },
   "source": [
    "<img src=\"img/logo_wiwi_en_.png\" width=\"30%\" align=\"left\">\n",
    "\n",
    "<img src=\"img/decision_analytics_logo.png\" width=\"17%\" align=\"right\">\n",
    "\n",
    "\n",
    "\n",
    "<br><br><br><br><br><br><br><br>\n",
    "\n",
    "\n",
    "\n",
    "# Combining OR and Data Science\n",
    "\n",
    "**Summer Term 2024**\n",
    "\n",
    "\n",
    "# 2. Introductory Case Study, Representing and Computing with Uncertain Quantities\n",
    "\n",
    "\n",
    "\n",
    "\n",
    "<br>\n",
    "\n",
    "<br>\n",
    "<br>\n",
    "\n",
    "**J-Prof. Dr. Michael Römer,  Mohsen Nafar**\n",
    "\n",
    "**Decision Analytics Group  | Bielefeld University**\n",
    "                                                    \n",
    "                                                \n"
   ]
  },
  {
   "cell_type": "code",
   "execution_count": 7,
   "metadata": {
    "slideshow": {
     "slide_type": "skip"
    }
   },
   "outputs": [],
   "source": [
    "import matplotlib.pyplot as plt\n",
    "import numpy as np\n",
    "from scipy import stats"
   ]
  },
  {
   "cell_type": "markdown",
   "metadata": {
    "cell_style": "center",
    "slideshow": {
     "slide_type": "slide"
    }
   },
   "source": [
    "## Overview\n",
    "\n",
    "- Introducing a case study\n",
    "- Representing uncertainty\n",
    "- Computing with uncertain quantities\n",
    "- Decision-making under uncertainty\n"
   ]
  },
  {
   "cell_type": "markdown",
   "metadata": {
    "slideshow": {
     "slide_type": "slide"
    }
   },
   "source": [
    "## A First (and Recurring) Case Study: Capacity Planning\n",
    "\n",
    "\n",
    "We will consider the following case study:\n",
    "\n",
    "<blockquote>\n",
    "    \n",
    "A marketing manager is asked by her boss to forecast demand for a new-generation microchip. The manager builds a Data Science model: She forecasts that  demand will lie between 50,000 and 150,000 units.\n",
    "        \n",
    "However, the boss insists:\n",
    "\n",
    "\"Give me a **number**! My people need to build a production line with a certain capacity!\"\n",
    "     \n",
    "The marketing manager provides him with her best guess - the average, that is, 100,000 units \n",
    "</blockquote> "
   ]
  },
  {
   "cell_type": "markdown",
   "metadata": {
    "slideshow": {
     "slide_type": "slide"
    }
   },
   "source": [
    "## Case Study: The Boss' Spreadsheet\n",
    "\n",
    "The boss plugs that number into his calculation spreadsheet and is\n",
    "happy:\n",
    "\n",
    "<img src=\"img/CaseStudyDeterministicSpreadsheet.PNG\" width=\"40%\" align=\"centert\">"
   ]
  },
  {
   "cell_type": "markdown",
   "metadata": {
    "slideshow": {
     "slide_type": "slide"
    }
   },
   "source": [
    "**Question:** How can we compute the total profit for a given installed capacity and demand?"
   ]
  },
  {
   "cell_type": "markdown",
   "metadata": {
    "slideshow": {
     "slide_type": "slide"
    }
   },
   "source": [
    "## Case Study: A Simple Model\n",
    "\n",
    "**Calculating total profit**\n",
    "\n",
    "Total Profit = - Capacity Installation Cost + Margin from Sales\n",
    "\n",
    "**A simple model**\n",
    "\n",
    "Total Profit $g = f (x, d) = −30x + 40\\cdot$min$(x, d)$\n",
    "\n",
    "where\n",
    "\n",
    "$x$: installed capacity in units (decision)\n",
    "\n",
    "$d$: demand in units\n"
   ]
  },
  {
   "cell_type": "markdown",
   "metadata": {
    "slideshow": {
     "slide_type": "fragment"
    }
   },
   "source": [
    "In Python:"
   ]
  },
  {
   "cell_type": "code",
   "execution_count": 6,
   "metadata": {
    "slideshow": {
     "slide_type": "-"
    }
   },
   "outputs": [],
   "source": [
    "def total_profit(capacity, demand):    \n",
    "    return -30*capacity + 40* min(capacity, demand)"
   ]
  },
  {
   "cell_type": "markdown",
   "metadata": {
    "slideshow": {
     "slide_type": "slide"
    }
   },
   "source": [
    "## Case Study: The Boss' Deterministic Decision\n",
    "\n",
    "- The boss uses a given estimated demand $d = 100$ <br> \n",
    "(to enhance readability, we calculate with units of 1000 items ),\n",
    "\n",
    "-  Using $x := d$ results in:\n",
    "\n",
    "Total Proﬁt $g = f (100, 100) = 1000$"
   ]
  },
  {
   "cell_type": "code",
   "execution_count": 8,
   "metadata": {
    "slideshow": {
     "slide_type": "-"
    }
   },
   "outputs": [
    {
     "data": {
      "text/plain": [
       "1000"
      ]
     },
     "execution_count": 8,
     "metadata": {},
     "output_type": "execute_result"
    }
   ],
   "source": [
    "demand = 100\n",
    "capacity = 100\n",
    "total_profit(capacity, demand)"
   ]
  },
  {
   "cell_type": "markdown",
   "metadata": {
    "slideshow": {
     "slide_type": "slide"
    }
   },
   "source": [
    "The determinstic case is easy - but what to do in case of **uncertain demand**?"
   ]
  },
  {
   "cell_type": "markdown",
   "metadata": {
    "slideshow": {
     "slide_type": "slide"
    }
   },
   "source": [
    "## Overview: Part I of the course\n",
    "\n",
    "**Combining OR and Data Science for Planning under\n",
    "Uncertainty**\n",
    "\n",
    "We learn how to solve the capacity planning problem (and more): \n",
    "- Representing uncertainty: Probability distributions and how\n",
    "to obtain them\n",
    "- Calculating under uncertainty: Computing functions of\n",
    "uncertain variables\n",
    "- Deciding under uncertainty: Taking \"simple\" decisions\n",
    "under uncertainty\n",
    "- Optimizing under uncertainty: Chance-constrained and\n",
    "Stochastic Programming\n",
    "- Learning and optimizing under uncertainty: Combining\n",
    "Machine Learning and Optimization under Uncertainty"
   ]
  },
  {
   "cell_type": "markdown",
   "metadata": {
    "slideshow": {
     "slide_type": "slide"
    }
   },
   "source": [
    "## Decision Making under Uncertainty\n",
    "\n",
    "**Planning and decision making aﬀects the future**\n",
    "- e.g., we decide upon installing capacity aﬀecting future\n",
    "production volume\n",
    "\n",
    "**In general, the future is aﬀected by uncertainty**\n",
    "- e.g., customer demand is not known in advance\n",
    "\n",
    "→ **Planning and decision making under uncertainty is the rule,\n",
    "not an exception or some special case**"
   ]
  },
  {
   "cell_type": "markdown",
   "metadata": {
    "slideshow": {
     "slide_type": "slide"
    }
   },
   "source": [
    "## Dealing with Uncertainties\n",
    "\n",
    "\n",
    "Let us assume that we have a decision-making problem or process.\n",
    "\n",
    "\n",
    "If **important parameters** such as demand or\n",
    "resource availability are affected by **uncertainty**, we may represent them by:\n",
    "- point estimates such as averages (or predictions from an ML model)\n",
    "- scenarios (best case, average case, worst case) without\n",
    "probabilities\n",
    "- (approximations of) probability distributions"
   ]
  },
  {
   "cell_type": "markdown",
   "metadata": {
    "slideshow": {
     "slide_type": "slide"
    }
   },
   "source": [
    "## Representing Uncertain Numbers with Point Estimates\n",
    "\n",
    "Use a single value for each uncertain parameter \n",
    "- estimate the expected value\n",
    "- plug it into a deterministic decision-making model\n",
    "- often called **predict-then-optimize**"
   ]
  },
  {
   "cell_type": "markdown",
   "metadata": {
    "slideshow": {
     "slide_type": "fragment"
    }
   },
   "source": [
    "**Disadvantages:**\n",
    "- ignores diﬀerent outcomes and their probabilities\n",
    "- in general, leads to the ﬂaw of averages - does not yield the\n",
    "expected outcome of a decision\n",
    "\n",
    "... not the best approach, but widely used in practice "
   ]
  },
  {
   "cell_type": "markdown",
   "metadata": {
    "slideshow": {
     "slide_type": "slide"
    }
   },
   "source": [
    "## A Limited Number of Scenarios\n",
    "\n",
    "**Create a limited number of (unweighted) scenarios**\n",
    "- e.g.: worst case, average, best case\n",
    "- in general, scenarios are not assigned probabilities\n",
    "- mainly used for **what-if-analyses**"
   ]
  },
  {
   "cell_type": "markdown",
   "metadata": {
    "slideshow": {
     "slide_type": "fragment"
    }
   },
   "source": [
    "**Disadvantages:**\n",
    "- for each scenario, a diﬀerent decision may be optimal\n",
    "- little guidance on how to take a ﬁnal decision"
   ]
  },
  {
   "cell_type": "markdown",
   "metadata": {
    "slideshow": {
     "slide_type": "slide"
    }
   },
   "source": [
    "## Using Probability Distributions\n",
    "\n",
    "#### Our approach will be to\n",
    "- represent uncertain quantities by **probability distributions** (distributional instead of point forecasts)\n",
    "- compute with probability distributions using **Monte Carlo / sample approximations** \n",
    "- determine decisions using **enumeration**, **unconstrained optimization** and **stochastic linear programming**\n"
   ]
  },
  {
   "cell_type": "markdown",
   "metadata": {
    "slideshow": {
     "slide_type": "slide"
    }
   },
   "source": [
    "## Back to the Case Study: Dealing with Uncertain Demands\n",
    "\n",
    "- from the case study description, we know that demand is not a deterministic value $d$, but affected by uncertainty\n",
    "- in that case, what total profit can the boss expect for his capacity decision?\n",
    "- in case of uncertainty, is installing a capacity of 100 really the best decision?"
   ]
  },
  {
   "cell_type": "markdown",
   "metadata": {
    "slideshow": {
     "slide_type": "fragment"
    }
   },
   "source": [
    "#### To answer these questions, we will need to\n",
    "- model the uncertain demand\n",
    "- be able to compute a function with an argument affected by uncertainty\n",
    "- find a way to determine the capacity decision with the best expected profit\n",
    " \n",
    "\n",
    "  "
   ]
  },
  {
   "cell_type": "markdown",
   "metadata": {
    "slideshow": {
     "slide_type": "slide"
    }
   },
   "source": [
    "## Representing Uncertainty using Distributions\n",
    "\n",
    "In this course, we will represent uncertainty using **Probability Distributions**\n",
    "\n",
    "Given a  **random variable**\n",
    "- with a discrete (finite) or continuous **sample space (state space)** of possible outcomes, \n",
    "- a **probability distribution**  gives the **probabilities** of these outcomes such that \n",
    "- the total probability of all outcomes is 1\n",
    "\n",
    "**Probability Distributions in Python**\n",
    "\n",
    "- in Python, there are various libraries implementing distributions\n",
    "- we will use *Scipy Stats* here\n",
    "\n"
   ]
  },
  {
   "cell_type": "markdown",
   "metadata": {
    "slideshow": {
     "slide_type": "slide"
    }
   },
   "source": [
    "## Discrete Distributions\n",
    "\n",
    "\n",
    "For a **discrete** random variable $X$ with state space $\\mathcal{X}$\n",
    "\n",
    "- the *probability mass function* $p(x)$ gives the probability of\n",
    "  obtaining value $x \\in \\mathcal{X}$ \n",
    "- the *cumulative distribution function* $F(x)$ gives the probability\n",
    "  of obtaining a value smaller than $x$, or, more formally: $F(x) = \\sum\\limits_{a\\in\\mathcal{X}:a \\leq x} p(x)$"
   ]
  },
  {
   "cell_type": "markdown",
   "metadata": {
    "slideshow": {
     "slide_type": "fragment"
    }
   },
   "source": [
    "**Example: Binomial Distribution** "
   ]
  },
  {
   "cell_type": "code",
   "execution_count": 9,
   "metadata": {
    "hide_input": false,
    "slideshow": {
     "slide_type": "-"
    }
   },
   "outputs": [
    {
     "data": {
      "text/plain": [
       "Text(0.5, 1.0, 'Cumulative Distribution Function')"
      ]
     },
     "execution_count": 9,
     "metadata": {},
     "output_type": "execute_result"
    },
    {
     "data": {
      "image/png": "[encoded data removed]",
      "text/plain": [
       "<Figure size 864x345.6 with 2 Axes>"
      ]
     },
     "metadata": {
      "needs_background": "light"
     },
     "output_type": "display_data"
    }
   ],
   "source": [
    "from scipy.stats import binom\n",
    "\n",
    "#distribution parameters\n",
    "n, p = 10, 0.5\n",
    "\n",
    "fig, (ax1,ax2) = plt.subplots(1, 2, figsize=(12, 4.8), constrained_layout=True)\n",
    "fig.suptitle(f'Binomial Distribution (n={n},p={p})',fontsize=16)\n",
    "\n",
    "xx = np.arange(binom.ppf(0.01, n, p), binom.ppf(1, n, p)+1) # the range of x-values to display, (ppf is the inverse cumulative distribution function.)\n",
    "\n",
    "ax1.plot(xx, binom.pmf(xx, n, p), 'bo', ms=8)\n",
    "ax1.vlines(xx, 0, binom.pmf(xx, n, p), color='b', lw=5) # pmf is the probability mass function\n",
    "ax1.set_title('Probability Mass Function')\n",
    "\n",
    "xx = np.linspace(binom.ppf(0.01, n, p)-0.1, binom.ppf(1, n, p)+0.1,1000)\n",
    "ax2.plot(xx, binom.cdf(xx, n, p), 'b')\n",
    "ax2.set_title('Cumulative Distribution Function')"
   ]
  },
  {
   "cell_type": "markdown",
   "metadata": {
    "hide_input": false,
    "slideshow": {
     "slide_type": "slide"
    }
   },
   "source": [
    "## Continous Distributions\n",
    "\n",
    "For a **continuous** random variable $X$ with state space $\\mathcal{X}$\n",
    "\n",
    "- the **cumulative distribution function** $F(x)$ gives the probability\n",
    "  of a value smaller than $x$: $F(x) = p(X \\leq x)$ \n",
    "- the **probability density function** $f(x)$ is the derivative of\n",
    "  $F(x)$ and can be used to calculate the probability of obtaining a value $x$ within an interval $[a,b]$, that is, \n",
    "  $p(a\\leq x \\leq b)$: \n",
    "\n",
    "\n",
    "  $$\\int_a^b f(x) dx = F(b) - F(a)$$\n",
    "  "
   ]
  },
  {
   "cell_type": "markdown",
   "metadata": {
    "hide_input": false,
    "slideshow": {
     "slide_type": "fragment"
    }
   },
   "source": [
    "#### Example: Normal Distribution"
   ]
  },
  {
   "cell_type": "code",
   "execution_count": 38,
   "metadata": {
    "hide_input": false,
    "slideshow": {
     "slide_type": "-"
    }
   },
   "outputs": [
    {
     "data": {
      "text/plain": [
       "Text(0.5, 1.0, 'Cumulative Distribution Function')"
      ]
     },
     "execution_count": 38,
     "metadata": {},
     "output_type": "execute_result"
    },
    {
     "data": {
      "image/png": "[encoded data removed]",
      "text/plain": [
       "<Figure size 864x345.6 with 2 Axes>"
      ]
     },
     "metadata": {
      "needs_background": "light"
     },
     "output_type": "display_data"
    }
   ],
   "source": [
    "from scipy.stats import norm\n",
    "\n",
    "#parameters\n",
    "loc = 0 # mean\n",
    "scale = 1 # standard deviation\n",
    "\n",
    "normal_dist = norm(loc,scale) ## here, we \"freeze\" the distribution\n",
    "\n",
    "fig, (ax1,ax2) = plt.subplots(1, 2, figsize=(12, 4.8), constrained_layout=True, sharey=True)\n",
    "fig.suptitle(f'Normal Distribution with loc={loc}, scale={scale}',fontsize=16)\n",
    "\n",
    "xx = np.linspace(-3, 3, 1000)\n",
    "\n",
    "ax1.plot(xx, normal_dist.pdf(xx), linewidth=2, color='b')\n",
    "ax1.set_title('Probability Density Function')\n",
    "\n",
    "ax2.plot(xx, normal_dist.cdf(xx), linewidth=2, color='b')\n",
    "ax2.set_title('Cumulative Distribution Function')"
   ]
  },
  {
   "cell_type": "markdown",
   "metadata": {
    "slideshow": {
     "slide_type": "slide"
    }
   },
   "source": [
    "## Distribution Statistics\n",
    "\n",
    "#### Some statistics and how to compute them for discrete distributions:\n",
    "\n",
    "- **Expected Value / Mean**: $\\mu = E(X) = \\sum\\limits_{x \\in\\mathcal{X}} p(x)x$\n",
    "- **Variance**: $\\sigma^2 = E((x-\\mu)^2) = \\sum\\limits_{x \\in\\mathcal{X}} p(x)(x-\\mu)^2$ \n",
    "- **Standard deviation**: $\\sigma$\n",
    "- **Mode:** $\\arg \\max\\limits_{x \\in \\mathcal{X}} p(x)$\n",
    "- **$\\alpha$-quantile**: $x_\\alpha:P(X\\leq x_\\alpha) = F^{-1}(\\alpha)$ \n",
    "- **Median:** 0.5-quantile\n",
    "\n",
    "\n",
    "In **scipy.stats**, we can obtain these statistics as follows:"
   ]
  },
  {
   "cell_type": "code",
   "execution_count": 11,
   "metadata": {
    "slideshow": {
     "slide_type": "-"
    }
   },
   "outputs": [
    {
     "name": "stdout",
     "output_type": "stream",
     "text": [
      "Expected value: 0.0, variance: 0.25, standard deviation: 0.5\n",
      "Quantiles: 0.05: -0.8224268134757364, 0.5(median): 0.0, 0.05: 0.8224268134757361\n"
     ]
    }
   ],
   "source": [
    "print(f'Expected value: { normal_dist.mean() }, variance: { normal_dist.var() }, standard deviation: { normal_dist.std() }')\n",
    "print (f'Quantiles: 0.05: { normal_dist.ppf(0.05) }, 0.5(median): { normal_dist.median() }, 0.05: { normal_dist.ppf(0.95) }')"
   ]
  },
  {
   "cell_type": "markdown",
   "metadata": {
    "slideshow": {
     "slide_type": "slide"
    }
   },
   "source": [
    "## Parametric Distributions\n",
    "- the distributions we saw so far form so-called **parametric distributions**\n",
    "- they all have different assumptions and \"stories\" - it is good to know at least some basic properties about distributions\n",
    "- a great web resource for parametric distributions and their stories is the [Distribution Explorer](https://distribution-explorer.github.io/)\n",
    "- if we have data, we can select a distribution and fit it to the data (estimate the best parameters), e.g. using the `fit` function from scipy.stats\n",
    "- if we do not find a parametric distribution that fits to the data, we may as well resort to **non-parametric** distributions\n",
    "\n",
    "**Caution**: Fitting a single distribution to a given data set assumes that the data is **i.i.d.** (independent and identically distributed)\n"
   ]
  },
  {
   "cell_type": "markdown",
   "metadata": {
    "slideshow": {
     "slide_type": "slide"
    }
   },
   "source": [
    "## An Example for Useful Knowledge About Distributions\n",
    "\n",
    "<img src=\"img/normal_rule.png\" width=\"40%\" align=\"center\">\n",
    "\n",
    "- **68-95-99.7 Rule (for the normal distribution):** Shorthand rule to remember the percentage of probability mass that lies around the mean"
   ]
  },
  {
   "cell_type": "markdown",
   "metadata": {
    "slideshow": {
     "slide_type": "slide"
    }
   },
   "source": [
    "## Back to the Case Study\n",
    "\n",
    "Let us assume that in the case study, the data scientist considers modeling demand as a **Normal Distribution**:\n",
    "- the data scientist does not think that each demand is equally likely\n",
    "- she thinks that the mean is 100 000 \n",
    "- she assumes that the distribution is symmetric\n",
    "- and about 2/3 of the probability mass lies within 100 000 $\\pm$ 25 000 $\\rightarrow$ $\\sigma$ = 25000\n",
    "\n"
   ]
  },
  {
   "cell_type": "code",
   "execution_count": 32,
   "metadata": {
    "hide_input": false,
    "slideshow": {
     "slide_type": "-"
    }
   },
   "outputs": [],
   "source": [
    "expected_demand = 100\n",
    "standard_devation_demand = 25\n",
    "demand_dist = stats.norm(expected_demand, standard_devation_demand)"
   ]
  },
  {
   "cell_type": "code",
   "execution_count": 11,
   "metadata": {
    "hide_input": false,
    "slideshow": {
     "slide_type": "fragment"
    }
   },
   "outputs": [
    {
     "data": {
      "image/png": "[encoded data removed]",
      "text/plain": [
       "<Figure size 432x288 with 1 Axes>"
      ]
     },
     "metadata": {
      "needs_background": "light"
     },
     "output_type": "display_data"
    }
   ],
   "source": [
    "xx = np.linspace(0, 200, 1000)\n",
    "plt.plot(xx, demand_dist.pdf(xx), linewidth=2, color='b', label='pdf')\n",
    "plt.suptitle('Normal Distribution for Demand')\n",
    "\n",
    "plt.show()"
   ]
  },
  {
   "cell_type": "markdown",
   "metadata": {
    "slideshow": {
     "slide_type": "slide"
    }
   },
   "source": [
    "## Case Study: All set?\n",
    "\n",
    "\n",
    "So now, we know that our expected demand is 100. Let us assume, that, following the boss, we install a capacity of 100.\n",
    "\n",
    "- can we simply plug the expected demand into our function for computing the total profit?\n",
    "- what will be the distribution of the profits?\n",
    " - what is the variance of the profit?\n",
    " - how likely is it that we earn less than \\\\$ 500? \n",
    "\n",
    "\n",
    "**We will start answering these types of questions next**"
   ]
  },
  {
   "cell_type": "markdown",
   "metadata": {
    "slideshow": {
     "slide_type": "slide"
    }
   },
   "source": [
    "# Computing with Uncertain Quantities"
   ]
  },
  {
   "cell_type": "markdown",
   "metadata": {
    "slideshow": {
     "slide_type": "slide"
    }
   },
   "source": [
    "## Computing Functions of Random Variables\n",
    "\n",
    "#### Technically, the problem we address is:\n",
    "\n",
    "Given an arbitrary function $f(d)$ with a parameter $d$ (or multiple\n",
    "parameters) and a random variable $D$ (or multiple random variables),\n",
    "what is the distribution of $Y = f(D)$? \n",
    "\n",
    "\n",
    "#### Analytically?\n",
    "- There are analytical techniques like the so-called *change of variables* method,\n",
    "- but they quickly become difficult in case of involved multi-variate problems.\n"
   ]
  },
  {
   "cell_type": "markdown",
   "metadata": {
    "slideshow": {
     "slide_type": "slide"
    }
   },
   "source": [
    "### Sampling From Distributions\n",
    "- many techniques in computational statistics are based on *sampling*,\n",
    "  that is, on drawing random samples from a distribution\n",
    "  - imagine \"rolling a die\"\n",
    "  \n",
    "- these samples are used for transforming distributions and performing\n",
    "  probabilistic inference\n",
    "\n",
    "#### Example: Sampling from a Normal Distribution:"
   ]
  },
  {
   "cell_type": "code",
   "execution_count": 42,
   "metadata": {
    "hide_input": false,
    "slideshow": {
     "slide_type": "-"
    }
   },
   "outputs": [
    {
     "data": {
      "image/png": "[encoded data removed]",
      "text/plain": [
       "<Figure size 864x576 with 1 Axes>"
      ]
     },
     "metadata": {
      "needs_background": "light"
     },
     "output_type": "display_data"
    }
   ],
   "source": [
    "number_of_samples= 100000\n",
    "demand_samples = demand_dist.rvs(number_of_samples)\n",
    "xx = np.linspace(0, 200, 1000)\n",
    "\n",
    "plt.figure(figsize=(12,8))\n",
    "plt.plot(xx, demand_dist.pdf(xx), linewidth=2, color='b', label='pdf')\n",
    "plt.hist(demand_samples, bins=50, density=True, color='#EEEEEE', edgecolor=\"#AAAAAA\")\n",
    "plt.suptitle(f'Approximating a normal distribution with {number_of_samples} samples')\n",
    "plt.show()"
   ]
  },
  {
   "cell_type": "markdown",
   "metadata": {
    "slideshow": {
     "slide_type": "-"
    }
   },
   "source": [
    "**Task:** Play with the sample size to see the effect on approximation quality!"
   ]
  },
  {
   "cell_type": "markdown",
   "metadata": {
    "slideshow": {
     "slide_type": "slide"
    }
   },
   "source": [
    "### Sampling From Distributions\n",
    "- let us see the sampling function in more detail:\n"
   ]
  },
  {
   "cell_type": "code",
   "execution_count": 45,
   "metadata": {
    "slideshow": {
     "slide_type": "-"
    }
   },
   "outputs": [
    {
     "data": {
      "text/plain": [
       "array([102.46507519, 111.48216586, 128.85649504, ...,  74.35390407,\n",
       "       106.89995757, 122.93839143])"
      ]
     },
     "execution_count": 45,
     "metadata": {},
     "output_type": "execute_result"
    }
   ],
   "source": [
    "number_of_samples = 100000\n",
    "demand_samples  = demand_dist.rvs(number_of_samples)\n",
    "demand_samples"
   ]
  },
  {
   "cell_type": "markdown",
   "metadata": {
    "slideshow": {
     "slide_type": "fragment"
    }
   },
   "source": [
    "- let us see how well the expected value is approximated:\n"
   ]
  },
  {
   "cell_type": "code",
   "execution_count": 90,
   "metadata": {
    "slideshow": {
     "slide_type": "-"
    }
   },
   "outputs": [
    {
     "name": "stdout",
     "output_type": "stream",
     "text": [
      "True expected value 100.0 \n",
      "Approximate expected value for 100000 samples is 99.98772362765031 \n",
      "Approximate 0.05 Quantile for 100000 samples is 58.97399176868489 \n"
     ]
    }
   ],
   "source": [
    "print( f\"True expected value { demand_dist.mean() } \")\n",
    "\n",
    "approximate_mean = np.mean( demand_samples )\n",
    "\n",
    "print( f\"Approximate expected value for {number_of_samples} samples is { approximate_mean } \")\n",
    "\n",
    "print( f\"Approximate 0.05 Quantile for {number_of_samples} samples is { np.percentile(demand_samples,5)} \")"
   ]
  },
  {
   "cell_type": "markdown",
   "metadata": {
    "slideshow": {
     "slide_type": "slide"
    }
   },
   "source": [
    "## Monte-Carlo-Simulation / -Approximation for Computing with Random Variables\n",
    "\n",
    "#### The key idea\n",
    "- use sampling to approximate the **result distribution** of a function $f$\n",
    "- by simply computing the value $f$ for a set of sampled observations from the distributions of the uncertain\n",
    "  (input) parameters"
   ]
  },
  {
   "cell_type": "markdown",
   "metadata": {
    "slideshow": {
     "slide_type": "slide"
    }
   },
   "source": [
    "#### In our capacity planning example\n",
    "- let $d_s$ be a sample from the demand distribution\n",
    "- then $g(x)_s = f(x,d_s)$ is a sample from the distribution of the total profit for a given capacity decision $x$\n",
    "- we can thus approximate the expected  profit $E(G(x))$ of installing a capacity $x$ as:\n",
    "\n",
    "  $$E(G(x)) \\approx \\frac{1}{|S|} \\sum_{s \\in S} g(x)_s = \\frac{1}{|S|} \\sum_{s \\in S} f(x,d_s)$$"
   ]
  },
  {
   "cell_type": "markdown",
   "metadata": {
    "slideshow": {
     "slide_type": "slide"
    }
   },
   "source": [
    "### Monte-Carlo Simulation for our Case Study: A First Implementation\n",
    "\n",
    "Here, we implement a first loop-based implementation of a Monte-Carlo Simulation for our example case study:\n",
    "- we draw a new random number in each iteration of a for loop \n",
    "- and store the profit sample in an array\n"
   ]
  },
  {
   "cell_type": "code",
   "execution_count": 46,
   "metadata": {
    "slideshow": {
     "slide_type": "-"
    }
   },
   "outputs": [
    {
     "name": "stdout",
     "output_type": "stream",
     "text": [
      "The estimated expected profit is: 603.50\n"
     ]
    }
   ],
   "source": [
    "demand_dist = stats.norm(100,25) # demand distribution\n",
    "capacity = 100 # given capacity decision\n",
    "n_samples = 100000\n",
    "\n",
    "profit_samples = np.zeros(n_samples) # initialize the result array\n",
    "\n",
    "# the simulation loop\n",
    "for s in range(n_samples):\n",
    "    profit_samples[s] = total_profit(capacity, demand_dist.rvs())\n",
    "\n",
    "expected_profit = np.mean(profit_samples)\n",
    "\n",
    "print(f'The estimated expected profit is: {expected_profit:.2f}')"
   ]
  },
  {
   "cell_type": "markdown",
   "metadata": {
    "slideshow": {
     "slide_type": "slide"
    }
   },
   "source": [
    "## Plotting the Distribution of the Total Profit"
   ]
  },
  {
   "cell_type": "code",
   "execution_count": 47,
   "metadata": {
    "scrolled": true,
    "slideshow": {
     "slide_type": "-"
    }
   },
   "outputs": [
    {
     "data": {
      "image/png": "[encoded data removed]",
      "text/plain": [
       "<Figure size 432x288 with 1 Axes>"
      ]
     },
     "metadata": {
      "needs_background": "light"
     },
     "output_type": "display_data"
    }
   ],
   "source": [
    "xx = np.linspace(0, 200, 1000)\n",
    "\n",
    "plt.figure()\n",
    "plt.hist(profit_samples, bins=100, density=True, color='#EEEEEE', edgecolor=\"#AAAAAA\")\n",
    "plt.suptitle(f'Approximating the total profit distribution')\n",
    "\n",
    "plt.show()\n"
   ]
  },
  {
   "cell_type": "markdown",
   "metadata": {
    "slideshow": {
     "slide_type": "slide"
    }
   },
   "source": [
    "## Plotting the Total Profit as a Function of the Demand for a Capacity of 100"
   ]
  },
  {
   "cell_type": "code",
   "execution_count": 14,
   "metadata": {},
   "outputs": [
    {
     "data": {
      "image/png": "[encoded data removed]",
      "text/plain": [
       "<Figure size 864x576 with 1 Axes>"
      ]
     },
     "metadata": {
      "needs_background": "light"
     },
     "output_type": "display_data"
    }
   ],
   "source": [
    "xx = np.linspace(0, 200, 1000)\n",
    "\n",
    "profits = [total_profit(100, demand) for demand in xx]\n",
    "    \n",
    "plt.figure(figsize=(12,8))\n",
    "plt.plot(xx, profits , linewidth=2, color='b', label='pdf')\n",
    "plt.suptitle(f'Total Profit for a capacity of 100 as a function of demand')\n",
    "plt.show()   "
   ]
  },
  {
   "cell_type": "markdown",
   "metadata": {
    "heading_collapsed": true,
    "slideshow": {
     "slide_type": "slide"
    }
   },
   "source": [
    "### The Flaw of Averages\n",
    "\n",
    "\n",
    "#### The boss was wrong:\n",
    "While the boss' calculation returned a profit of around \\\\$ 1 m,\n",
    "our simulation reveals that the expected profit is only around \\\\$ 600 tsd \n",
    "\n",
    "$\\rightarrow$ The boss is a victim of the **Flaw of Averages**:\n",
    "\n",
    "<div class=\"alert alert-block alert-info\">\n",
    "<b>The Flaw of Averages:</b> The results obtained when replacing uncertain quantities with averages are wrong on average. </div>\n",
    "\n",
    "> In general, if $D$ is an random variable, and f is a nonlinear function, then \n",
    "> $$f(E(D)) \\neq E(f(D))$$\n",
    "> Plugging an average/expected value of an random variable into a function does **not** yield the expected value of that function!\n",
    "\n",
    "    \n"
   ]
  },
  {
   "cell_type": "markdown",
   "metadata": {
    "slideshow": {
     "slide_type": "slide"
    }
   },
   "source": [
    "## Do we always overestimate?\n",
    "\n",
    "Your company is considers purchasing  a natural gas reservoir\n",
    "containing a million units of gas. At the moment, the gas price is\n",
    "\\\\$10, and it costs you \\\\$9.50 to pump a unit of gas to the market.  \n",
    "\n",
    "The gas price is uncertain and the reservoir can only start\n",
    "operating in a month. At that time, the price may be multiple dollars\n",
    "higher or lower than \\\\$10.\n",
    "\n",
    "Your boss wants you to estimate the gas price in one month in order to\n",
    "valuate the reservoir. In particular, he wants a point estimate: The expected gas price.\n"
   ]
  },
  {
   "cell_type": "markdown",
   "metadata": {
    "slideshow": {
     "slide_type": "fragment"
    }
   },
   "source": [
    "\n",
    "**Excercise:** \n",
    "- Assume that next month's gas price follows a normal distribution with $\\mu = 10$ and $\\sigma = 3$\n",
    "- Flaw of averages analysis: Compare the value of the reservoir\n",
    "  obtained by calcuating with the expected price to its (Monte-Carlo-approximated) true value\n",
    "- Consider that in case of low prices, you have the option *not* to   pump gas\n",
    "- Plot the reservoir value as a function of the gas price"
   ]
  },
  {
   "cell_type": "code",
   "execution_count": 55,
   "metadata": {
    "slideshow": {
     "slide_type": "slide"
    }
   },
   "outputs": [
    {
     "data": {
      "text/plain": [
       "500000.0"
      ]
     },
     "execution_count": 55,
     "metadata": {},
     "output_type": "execute_result"
    }
   ],
   "source": [
    "##determinstic function\n",
    "def value_of_the_reservoir (gas_price):\n",
    "    ## parameter values here\n",
    "    cost_pumping = 9.5\n",
    "    units_in_reservoir = 1000000\n",
    "\n",
    "    profit_from_pumping = gas_price - cost_pumping\n",
    "    \n",
    "    return max(0, profit_from_pumping) * units_in_reservoir\n",
    "\n",
    "value_of_the_reservoir(10)"
   ]
  },
  {
   "cell_type": "code",
   "execution_count": 53,
   "metadata": {
    "slideshow": {
     "slide_type": "slide"
    }
   },
   "outputs": [
    {
     "name": "stdout",
     "output_type": "stream",
     "text": [
      "The estimated expected profit is: 1473384.68\n"
     ]
    }
   ],
   "source": [
    "## perform Monte-Carlo Approximation\n",
    "gas_price_dist = stats.norm(10, 3) # distribution of gas prices\n",
    "\n",
    "n_samples = 100000\n",
    "\n",
    "values_samples = np.zeros(n_samples) # initialize the result array\n",
    "\n",
    "# the simulation loop\n",
    "for s in range(n_samples):\n",
    "    values_samples[s] = value_of_the_reservoir(gas_price_dist.rvs())\n",
    "\n",
    "expected_reservoir_value = np.mean(values_samples)\n",
    "\n",
    "print(f'The estimated expected profit is: {expected_reservoir_value:.2f}')"
   ]
  },
  {
   "cell_type": "markdown",
   "metadata": {
    "slideshow": {
     "slide_type": "slide"
    }
   },
   "source": [
    "## Plotting the Reservoir Value as a Function of the Gas Price"
   ]
  },
  {
   "cell_type": "code",
   "execution_count": 56,
   "metadata": {
    "scrolled": true,
    "slideshow": {
     "slide_type": "-"
    }
   },
   "outputs": [
    {
     "data": {
      "image/png": "[encoded data removed]",
      "text/plain": [
       "<Figure size 864x576 with 1 Axes>"
      ]
     },
     "metadata": {
      "needs_background": "light"
     },
     "output_type": "display_data"
    }
   ],
   "source": [
    "xx = np.linspace(5, 15, 1000)\n",
    "\n",
    "values = [value_of_the_reservoir(price) for price in xx]\n",
    "    \n",
    "plt.figure(figsize=(12,8))\n",
    "plt.plot(xx, values, linewidth=2, color='b', label='pdf')\n",
    "plt.suptitle(f'value as a function of gas price')\n",
    "plt.show()   "
   ]
  },
  {
   "cell_type": "markdown",
   "metadata": {
    "slideshow": {
     "slide_type": "slide"
    }
   },
   "source": [
    "## Vector-Oriented Monte Carlo Approximation\n",
    "- our first implementation was based on drawing random demands **within** a for-loop\n",
    "- an equivalent implementation would be to draw an array (a vector) of random demands **beforehand** and use them in the implementation\n",
    "- this is useful for\n",
    "  - reproducibility\n",
    "  - variance reduction (common random numbers) when using a Monte-Carlo approximation for decision-making / optimization\n",
    "  - efficient vectorized implmementations of Monte-Carlo approximations\n",
    "\n",
    "**Some Notation:**\n",
    "\n",
    "Given a random variable, e.g. the random demand $D$\n",
    "- $d_s$ is the sample with index $s$\n",
    "- $[d_s]_{s \\in S}$, shortly written as $[d_s]$,  is the sample vector $\\begin{bmatrix} d_1 \\\\ \\vdots \\\\ d_{|s|} \\end{bmatrix}$\n",
    "- if the context is clear, we may also use $\\mathbf{d} := [d_s]$\n",
    "\n",
    "where \n",
    "\n",
    "- $|S|$ is the number of samples / scenarios\n",
    "- $S$ is the (ordered) index set of samples, $S = \\{1\\ldots |S| \\}$\n"
   ]
  },
  {
   "cell_type": "markdown",
   "metadata": {
    "slideshow": {
     "slide_type": "slide"
    }
   },
   "source": [
    "## Vector-Oriented Monte Carlo\n",
    "\n",
    "\n",
    "Given \n",
    "- a deterministic function $f(d)$  and \n",
    "- a random variable (a probability distribution)  $D$\n",
    "we wish to compute the distribution $G = f(D)$ \n",
    "\n",
    "\n",
    "Let $\\mathbf{d} = [d_s]$ be a vector of samples from $D$. \n",
    "\n",
    "We obtain a Monte Carlo approximation $\\mathbf{g}$ of $G$ by applying $f$ **element-wise:** \n",
    "\n",
    "$\\mathbf{g} = [g_s] = \\begin{bmatrix} g_1 \\\\ \\vdots \\\\ g_{|s|} \\end{bmatrix} = [f(d_s)] = \\begin{bmatrix} f(d_1) \\\\ \\vdots \\\\ f(d_{|S|}) \\end{bmatrix}$ \n",
    "\n",
    "\n",
    "We will write $\\mathbf{f}$ to indicate element-wise\n",
    "application of $f$ to a vector: \n",
    "\n",
    "$\\mathbf{g} = \\mathbf{f}(\\mathbf{d}) = [f(d_s)]$ \n",
    "\n",
    "\n",
    "And we will call $\\mathbf{f}$ the **vectorized** version of $f$.\n"
   ]
  },
  {
   "cell_type": "markdown",
   "metadata": {
    "slideshow": {
     "slide_type": "slide"
    }
   },
   "source": [
    "## Illustration: Numerical Example\n",
    "\n",
    "The deterministic function for computing the total profit given\n",
    "capacity decision $x$ and deterministic demand $d$: \n",
    "\n",
    "$g = f(x,d) = -30x+40 \\min(x.d)$ \n",
    "\n",
    "Let us fix $x$ to $100$ am the use the sample vector\n",
    "$\\mathbf{d}= \\begin{bmatrix} 85 \\\\ 100 \\\\ 115\\end{bmatrix}$ \n",
    "\n",
    "\n",
    "Then, we can compute \n",
    "$\\mathbf{g} =\n",
    " \\mathbf{f(100,\\mathbf{d})}= \n",
    "  \\begin{bmatrix} -3000 + 40 \\min(100,85)  \\\\ -3000 + 40 \\min(100,100) \\\\ -3000 + 40 \\min(100,115) \\end{bmatrix} = \n",
    "  \\begin{bmatrix} 400 \\\\ 1000 \\\\ 1000  \\end{bmatrix}$ \n",
    "\n",
    "..and we obtain an estimated expected total profit $$\\bar{\\mathbf{g}}= \\frac{1}{|S|} \\sum_{s \\in S}g_s = 800$$\n"
   ]
  },
  {
   "cell_type": "markdown",
   "metadata": {
    "slideshow": {
     "slide_type": "slide"
    }
   },
   "source": [
    "## Vectorizing your Python Functions: Numba `@vectorize`\n",
    "\n",
    "#### Numba\n",
    "- is a just-in-time compiler that turns Python functions to C code\n",
    "- specializing in Numpy-based code \n",
    "- very simple to use since it providess so-called **decorators** you can add to your existing code \n",
    "\n",
    "#### Vectorization\n",
    "- numba provides the decorator `@vectorize` that\n",
    "  - turns a function taking scalars in to a vectorized function that can support broadcasting (like numpy's ufuncs)\n",
    "  - is very fast since it just-in-time compiles the code into C code \n"
   ]
  },
  {
   "cell_type": "markdown",
   "metadata": {
    "slideshow": {
     "slide_type": "slide"
    }
   },
   "source": [
    "## Vectorizing a Function in our Case Study\n",
    "\n",
    "Take our function $f(x,d) = -30x+40 \\min(x,d)$   "
   ]
  },
  {
   "cell_type": "code",
   "execution_count": 57,
   "metadata": {
    "slideshow": {
     "slide_type": "-"
    }
   },
   "outputs": [],
   "source": [
    "def total_profit(capacity, demand):\n",
    "    return -30*capacity + 40*min(capacity, demand)\n",
    "\n"
   ]
  },
  {
   "cell_type": "markdown",
   "metadata": {
    "slideshow": {
     "slide_type": "fragment"
    }
   },
   "source": [
    "Turn it into its vectorized counterpart $\\mathbf{f}(x,d)$ by: \n",
    "    "
   ]
  },
  {
   "cell_type": "code",
   "execution_count": 58,
   "metadata": {
    "slideshow": {
     "slide_type": "-"
    }
   },
   "outputs": [],
   "source": [
    "from numba import vectorize   \n",
    "\n",
    "@vectorize\n",
    "def total_profit_vectorized(capacity, demand):\n",
    "    return -30*capacity + 40*min(capacity, demand)"
   ]
  },
  {
   "cell_type": "markdown",
   "metadata": {
    "slideshow": {
     "slide_type": "fragment"
    }
   },
   "source": [
    "The function will now work with every combination of:\n",
    "- $x$ scalar, vector (array) or matrix (multi-dimensional array)\n",
    "- $d$ scalar, vector (array) or matrix (multi-dimensional array)"
   ]
  },
  {
   "cell_type": "code",
   "execution_count": 60,
   "metadata": {
    "slideshow": {
     "slide_type": "-"
    }
   },
   "outputs": [
    {
     "name": "stdout",
     "output_type": "stream",
     "text": [
      "[129.87106604 133.37225704 123.10847186 ... 108.23063993 118.8177257\n",
      "  97.01725917]\n",
      "[1000.         1000.         1000.         ... 1000.         1000.\n",
      "  880.69036677]\n"
     ]
    },
    {
     "data": {
      "text/plain": [
       "598.2526094473648"
      ]
     },
     "execution_count": 60,
     "metadata": {},
     "output_type": "execute_result"
    }
   ],
   "source": [
    "demand_sample = demand_dist.rvs(n_samples)\n",
    "print(demand_sample)\n",
    "\n",
    "\n",
    "profit_sample = total_profit_vectorized(capacity, demand_sample)\n",
    "\n",
    "\n",
    "print(profit_sample)\n",
    "np.mean(profit_sample)"
   ]
  },
  {
   "cell_type": "markdown",
   "metadata": {
    "slideshow": {
     "slide_type": "slide"
    }
   },
   "source": [
    "## Comparing Speeds\n",
    "\n",
    "Let us compare computation speed using timeit"
   ]
  },
  {
   "cell_type": "code",
   "execution_count": 61,
   "metadata": {
    "slideshow": {
     "slide_type": "-"
    }
   },
   "outputs": [
    {
     "name": "stdout",
     "output_type": "stream",
     "text": [
      "3.15 s ± 46.8 ms per loop (mean ± std. dev. of 7 runs, 1 loop each)\n",
      "2.66 ms ± 49.9 µs per loop (mean ± std. dev. of 7 runs, 100 loops each)\n",
      "The for loop-based approach took 1185.24 as much time as the vectorized approach\n"
     ]
    }
   ],
   "source": [
    "def monte_carlo_python_loop():\n",
    "    profit_samples = np.zeros(n_samples) \n",
    "    for s in range(n_samples):\n",
    "        profit_samples[s] = total_profit(capacity, demand_dist.rvs())\n",
    "    expected_profit = np.mean(profit_samples)    \n",
    "    return expected_profit\n",
    "\n",
    "timeit_result_for_loop = %timeit -o monte_carlo_python_loop()\n",
    "time_in_sec_for_loop = np.mean(timeit_result_for_loop.all_runs) / timeit_result_for_loop.loops\n",
    "\n",
    "def monte_carlo_vectorized():\n",
    "    demand_sample = demand_dist.rvs(n_samples)\n",
    "    profit = total_profit_vectorized(capacity,demand_sample)\n",
    "    expected_profit = np.mean(profit)    \n",
    "    return expected_profit\n",
    "\n",
    "\n",
    "timeit_result_vectorized = %timeit -o monte_carlo_vectorized()\n",
    "time_in_sec_vectorized = np.mean(timeit_result_vectorized.all_runs) / timeit_result_vectorized.loops\n",
    "\n",
    "relative_time_for_loop =time_in_sec_for_loop / time_in_sec_vectorized\n",
    "print(f'The for loop-based approach took {relative_time_for_loop:.02f} as much time as the vectorized approach')"
   ]
  },
  {
   "cell_type": "markdown",
   "metadata": {
    "slideshow": {
     "slide_type": "slide"
    }
   },
   "source": [
    "# Finally: What is the Best Decision?"
   ]
  },
  {
   "cell_type": "markdown",
   "metadata": {
    "heading_collapsed": true,
    "slideshow": {
     "slide_type": "slide"
    }
   },
   "source": [
    "## Decision-Making under Uncertainty: Formalization\n",
    "\n",
    "We are looking for\n",
    "- the decision (or decision vector, or more general, solution) $x$ \n",
    "- from the set of possible decisions (solutions) $X$ \n",
    "-  yielding the *best* expected outcome $E(f(x,D))$\n",
    "-  given the uncertain/random variable(s) $D$\n",
    "\n",
    "\n",
    "We can write this as an **optimization** problem under uncertainty:\n",
    "\n",
    "$$\\max_{x \\in X} E(f(x,D))$$\n",
    "\n",
    "Using Monte Carlo, we approximate $E(f(x,D))$ by the mean of the\n",
    " output sample vector $\\mathbf{f}(x,\\mathbf{d})$, that is by\n",
    " $\\frac{1}{|S|} \\sum\\limits_{s\\in S} f(x,d_s)$ \\\\\n",
    "\n",
    "This results in the following optimization problem:\n",
    "\n",
    "$$\\max_{x\\in X} \\frac{1}{|S|} \\sum\\limits_{s\\in S} f(x,d_s)$$"
   ]
  },
  {
   "cell_type": "markdown",
   "metadata": {
    "slideshow": {
     "slide_type": "slide"
    }
   },
   "source": [
    "## Solving by Enumeration\n",
    "\n",
    "#### If\n",
    "- the set $X$ is finite and not too big (there are just few number of decisions / plans to choose from)\n",
    "- and $\\frac{1}{|S|} \\sum\\limits_{s\\in S} f(x,d_s)$ can be computed efficiently\n",
    "\n",
    "#### ... we can simply \n",
    "-  **enumerate** all solutions / decisions  $x \\in X$ \n",
    "- and *select* one maximizing $\\frac{1}{|S|} \\sum\\limits_{s\\in S} f(x,d_s)$\n",
    "\n",
    "..in our example, we may simply enumerate all (meaningful) capacity decisions $x$, e.g. from 0 to 200.\n"
   ]
  },
  {
   "cell_type": "markdown",
   "metadata": {
    "slideshow": {
     "slide_type": "slide"
    }
   },
   "source": [
    "## Enumeration:  Implementation\n",
    "\n",
    "**Task:**\n",
    "\n",
    "Implement a for loop that chooses the best capacity decision and print the best decision and the best expected total profit \n",
    "- (you may use the function expected_profit from below)"
   ]
  },
  {
   "cell_type": "code",
   "execution_count": 63,
   "metadata": {
    "slideshow": {
     "slide_type": "-"
    }
   },
   "outputs": [
    {
     "name": "stdout",
     "output_type": "stream",
     "text": [
      "680.6185632005565 83\n"
     ]
    }
   ],
   "source": [
    "capacities = np.arange(0,200) # the array / vector with the possible values\n",
    "\n",
    "\n",
    "def expected_profit(capacity):\n",
    "    return np.mean(total_profit_vectorized(capacity,demand_sample))\n",
    "\n",
    "best_profit = 0\n",
    "\n",
    "best_capacity = 0\n",
    "for capacity in range(0,201):\n",
    "    \n",
    "    profit = expected_profit(capacity)\n",
    "    \n",
    "    if profit > best_profit:\n",
    "        best_profit = profit\n",
    "        best_capacity = capacity\n",
    "        \n",
    "print (best_profit, best_capacity)\n",
    "    \n"
   ]
  },
  {
   "cell_type": "markdown",
   "metadata": {
    "slideshow": {
     "slide_type": "slide"
    }
   },
   "source": [
    "## The Flaw Of Averages and Decision Making\n",
    "\n",
    "When it comes to *decision making*, we encounter the\n",
    "\n",
    "\n",
    "<div class=\"alert alert-block alert-info\">\n",
    "<b>Strong Form of the Flaw of Averages:</b> Decisions and plans based on averages are wrong on average </div>\n",
    "\n",
    "More formally: In general, if $x$ is a (vector of) decision variable(s), $D$ is an random variable, and f is a nonlinear function, then  \n",
    "    \n",
    "$$\\underset{x}{\\operatorname{argmax}} f(x,E(D)) \\neq \\underset{x}{\\operatorname{argmax}}  E(f(x,D))$$\n",
    "    \n",
    "\n",
    "That is, in general, the best average-based decision is usually different and worse than the decision with the best expected performance."
   ]
  },
  {
   "cell_type": "markdown",
   "metadata": {
    "slideshow": {
     "slide_type": "fragment"
    }
   },
   "source": [
    "... we will consider decision making under uncertainty in more detail later in the course!"
   ]
  },
  {
   "cell_type": "markdown",
   "metadata": {
    "slideshow": {
     "slide_type": "slide"
    }
   },
   "source": [
    "\n",
    "## Conclusions\n",
    "\n",
    "**Today**\n",
    "- we had a short tour-de-force in decision-making under uncertainty with implementatios by Python\n",
    "- using a simple case study\n",
    "\n",
    "**Next time (in two weeks)**\n",
    "- we will have a closer look at how to **obtain probability distributions** for our approach to decision-making under uncertainty"
   ]
  }
 ],
 "metadata": {
  "celltoolbar": "Slideshow",
  "kernelspec": {
   "display_name": "Python [conda env:cords2022]",
   "language": "python",
   "name": "conda-env-cords2022-py"
  },
  "language_info": {
   "codemirror_mode": {
    "name": "ipython",
    "version": 3
   },
   "file_extension": ".py",
   "mimetype": "text/x-python",
   "name": "python",
   "nbconvert_exporter": "python",
   "pygments_lexer": "ipython3",
   "version": "3.9.12"
  },
  "toc": {
   "base_numbering": 1,
   "nav_menu": {},
   "number_sections": false,
   "sideBar": true,
   "skip_h1_title": false,
   "title_cell": "Table of Contents",
   "title_sidebar": "Contents",
   "toc_cell": false,
   "toc_position": {},
   "toc_section_display": true,
   "toc_window_display": false
  },
  "varInspector": {
   "cols": {
    "lenName": 16,
    "lenType": 16,
    "lenVar": 40
   },
   "kernels_config": {
    "python": {
     "delete_cmd_postfix": "",
     "delete_cmd_prefix": "del ",
     "library": "var_list.py",
     "varRefreshCmd": "print(var_dic_list())"
    },
    "r": {
     "delete_cmd_postfix": ") ",
     "delete_cmd_prefix": "rm(",
     "library": "var_list.r",
     "varRefreshCmd": "cat(var_dic_list()) "
    }
   },
   "types_to_exclude": [
    "module",
    "function",
    "builtin_function_or_method",
    "instance",
    "_Feature"
   ],
   "window_display": false
  }
 },
 "nbformat": 4,
 "nbformat_minor": 2
}
